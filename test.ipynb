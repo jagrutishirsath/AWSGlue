{
 "cells": [
  {
   "cell_type": "markdown",
   "metadata": {
    "deletable": false,
    "editable": false
   },
   "source": [
    "\n",
    "# Glue Studio Notebook\n",
    "You are now running a **Glue Studio** notebook; before you can start using your notebook you *must* start an interactive session.\n",
    "\n",
    "## Available Magics\n",
    "|          Magic              |   Type       |                                                                        Description                                                                        |\n",
    "|-----------------------------|--------------|-----------------------------------------------------------------------------------------------------------------------------------------------------------|\n",
    "| %%configure                 |  Dictionary  |  A json-formatted dictionary consisting of all configuration parameters for a session. Each parameter can be specified here or through individual magics. |\n",
    "| %profile                    |  String      |  Specify a profile in your aws configuration to use as the credentials provider.                                                                          |\n",
    "| %iam_role                   |  String      |  Specify an IAM role to execute your session with.                                                                                                        |\n",
    "| %region                     |  String      |  Specify the AWS region in which to initialize a session                                                                                                  |\n",
    "| %session_id                 |  String      |  Returns the session ID for the running session.                                                                                                          |\n",
    "| %connections                |  List        |  Specify a comma separated list of connections to use in the session.                                                                                     |\n",
    "| %additional_python_modules  |  List        |  Comma separated list of pip packages, s3 paths or private pip arguments.                                                                                 |\n",
    "| %extra_py_files             |  List        |  Comma separated list of additional Python files from S3.                                                                                                 |\n",
    "| %extra_jars                 |  List        |  Comma separated list of additional Jars to include in the cluster.                                                                                       |\n",
    "| %number_of_workers          |  Integer     |  The number of workers of a defined worker_type that are allocated when a job runs. worker_type must be set too.                                          |\n",
    "| %worker_type                |  String      |  Standard, G.1X, *or* G.2X. number_of_workers must be set too. Default is G.1X                                                                            |\n",
    "| %glue_version               |  String      |  The version of Glue to be used by this session. Currently, the only valid options are 2.0 and 3.0 (eg: %glue_version 2.0)                                |\n",
    "| %security_config            |  String      |  Define a security configuration to be used with this session.                                                                                            |\n",
    "| %sql                        |  String      |  Run SQL code. All lines after the initial %%sql magic will be passed as part of the SQL code.                                                            |\n",
    "| %streaming                  |  String      |  Changes the session type to Glue Streaming.                                                                                                              |\n",
    "| %etl                        |  String      |   Changes the session type to Glue ETL.                                                                                                                   |\n",
    "| %status                     |              |  Returns the status of the current Glue session including its duration, configuration and executing user / role.                                          |\n",
    "| %stop_session               |              |  Stops the current session.                                                                                                                               |\n",
    "| %list_sessions              |              |  Lists all currently running sessions by name and ID.                                                                                                     |\n",
    "| %spark_conf                 |  String      |  Specify custom spark configurations for your session. E.g. %spark_conf spark.serializer=org.apache.spark.serializer.KryoSerializer                       |"
   ]
  },
  {
   "cell_type": "code",
   "execution_count": null,
   "metadata": {},
   "outputs": [
    {
     "name": "stdout",
     "output_type": "stream",
     "text": [
      "Welcome to the Glue Interactive Sessions Kernel\n",
      "For more information on available magic commands, please type %help in any new cell.\n",
      "\n",
      "Please view our Getting Started page to access the most up-to-date information on the Interactive Sessions kernel: https://docs.aws.amazon.com/glue/latest/dg/interactive-sessions.html\n",
      "Installed kernel version: 0.35 \n",
      "Authenticating with environment variables and user-defined glue_role_arn: arn:aws:iam::043916019468:role/Lab3\n",
      "Trying to create a Glue session for the kernel.\n",
      "Worker Type: G.1X\n",
      "Number of Workers: 5\n",
      "Session ID: d872c2db-addc-4f54-9bdd-b9c01176abb7\n",
      "Applying the following default arguments:\n",
      "--glue_kernel_version 0.35\n",
      "--enable-glue-datacatalog true\n",
      "Waiting for session d872c2db-addc-4f54-9bdd-b9c01176abb7 to get into ready status...\n",
      "Session d872c2db-addc-4f54-9bdd-b9c01176abb7 has been created\n",
      "\n",
      "\n"
     ]
    }
   ],
   "source": [
    "import sys\n",
    "from awsglue.transforms import *\n",
    "from awsglue.utils import getResolvedOptions\n",
    "from pyspark.context import SparkContext\n",
    "from awsglue.context import GlueContext\n",
    "from awsglue.job import Job\n",
    "  \n",
    "sc = SparkContext.getOrCreate()\n",
    "glueContext = GlueContext(sc)\n",
    "spark = glueContext.spark_session\n",
    "job = Job(glueContext)"
   ]
  },
  {
   "cell_type": "code",
   "execution_count": 32,
   "metadata": {},
   "outputs": [
    {
     "name": "stdout",
     "output_type": "stream",
     "text": [
      "\n"
     ]
    }
   ],
   "source": [
    "AWSGlueDataCatalog_node1668083342455 = glueContext.create_dynamic_frame.from_catalog(\n",
    "    database=\"learndb\",\n",
    "    table_name=\"soumil_data\",\n",
    "    transformation_ctx=\"AWSGlueDataCatalog_node1668083342455\",\n",
    ")"
   ]
  },
  {
   "cell_type": "code",
   "execution_count": 2,
   "metadata": {},
   "outputs": [
    {
     "name": "stdout",
     "output_type": "stream",
     "text": [
      "DataFrame[first_name: string, last_name: string, address: string, text: string, id: string, city: string, state: string]\n"
     ]
    }
   ],
   "source": [
    "AWSGlueDataCatalog_node1668083342455.toDF()"
   ]
  },
  {
   "cell_type": "code",
   "execution_count": 3,
   "metadata": {},
   "outputs": [
    {
     "name": "stdout",
     "output_type": "stream",
     "text": [
      "+----------+---------+--------------------+--------------------+--------------------+---------------+----------+\n",
      "|first_name|last_name|             address|                text|                  id|           city|     state|\n",
      "+----------+---------+--------------------+--------------------+--------------------+---------------+----------+\n",
      "|      Cody|  Daniels|653 Jones Port Ap...|Price resource co...|5fe7b9c4-34f8-491...|Griffithborough|    Oregon|\n",
      "|      Cody|  Daniels|653 Jones Port Ap...|Price resource co...|5fe7b9c4-34f8-491...|Griffithborough|    Oregon|\n",
      "| Catherine|   Thomas|PSC 8441, Box 525...|Would end friend ...|978474fd-582a-4a5...|       Brayberg|      Ohio|\n",
      "|     Laura|   Harris|176 Garcia Brook\n",
      "...|Meeting edge nor ...|05f2eb79-de24-47a...|     Taylorside|  Maryland|\n",
      "| Stephanie|     Roth|2530 John Locks A...|Song fear quality...|da6614d4-c2cf-47e...|    Lake Ashley|Washington|\n",
      "|    Nathan|Mccormick|7480 Calvin Drive...|Drug this approac...|169569b1-75a3-449...|    Jeffreyfurt|  Illinois|\n",
      "|      Lynn|   Garcia|PSC 3067, Box 311...|Measure gun trial...|0cf8f55f-0b22-498...|     North Mark|  Delaware|\n",
      "|     Laura|   Harris|176 Garcia Brook\n",
      "...|Meeting edge nor ...|05f2eb79-de24-47a...|     Taylorside|  Maryland|\n",
      "|      Cody|  Daniels|653 Jones Port Ap...|Price resource co...|5fe7b9c4-34f8-491...|Griffithborough|    Oregon|\n",
      "| Stephanie|     Roth|2530 John Locks A...|Song fear quality...|da6614d4-c2cf-47e...|    Lake Ashley|Washington|\n",
      "| Catherine|   Thomas|PSC 8441, Box 525...|Would end friend ...|978474fd-582a-4a5...|       Brayberg|      Ohio|\n",
      "|     Laura|   Harris|176 Garcia Brook\n",
      "...|Meeting edge nor ...|05f2eb79-de24-47a...|     Taylorside|  Maryland|\n",
      "+----------+---------+--------------------+--------------------+--------------------+---------------+----------+\n"
     ]
    }
   ],
   "source": [
    "AWSGlueDataCatalog_node1668083342455.toDF().show()"
   ]
  },
  {
   "cell_type": "code",
   "execution_count": 4,
   "metadata": {},
   "outputs": [
    {
     "name": "stdout",
     "output_type": "stream",
     "text": [
      "root\n",
      " |-- first_name: string (nullable = true)\n",
      " |-- last_name: string (nullable = true)\n",
      " |-- address: string (nullable = true)\n",
      " |-- text: string (nullable = true)\n",
      " |-- id: string (nullable = true)\n",
      " |-- city: string (nullable = true)\n",
      " |-- state: string (nullable = true)\n"
     ]
    }
   ],
   "source": [
    "AWSGlueDataCatalog_node1668083342455.toDF().printSchema()"
   ]
  },
  {
   "cell_type": "markdown",
   "metadata": {},
   "source": [
    "# Removing Duplicates\n"
   ]
  },
  {
   "cell_type": "code",
   "execution_count": 33,
   "metadata": {},
   "outputs": [
    {
     "name": "stdout",
     "output_type": "stream",
     "text": [
      "\n"
     ]
    }
   ],
   "source": [
    "from pyspark.sql.functions import udf\n",
    "import hashlib\n",
    "from pyspark.sql.functions import concat_ws,udf,concat"
   ]
  },
  {
   "cell_type": "code",
   "execution_count": 45,
   "metadata": {},
   "outputs": [
    {
     "name": "stdout",
     "output_type": "stream",
     "text": [
      "\n"
     ]
    }
   ],
   "source": [
    "@udf(\"String\")  \n",
    "def hasher(x):\n",
    "    try:\n",
    "        data = hashlib.md5(repr(x).encode(\"UTF-8\")).hexdigest().__str__()\n",
    "        return data\n",
    "    except Exception as e:\n",
    "        return \"\"\n"
   ]
  },
  {
   "cell_type": "code",
   "execution_count": 46,
   "metadata": {},
   "outputs": [
    {
     "name": "stdout",
     "output_type": "stream",
     "text": [
      "\n"
     ]
    }
   ],
   "source": [
    "df = AWSGlueDataCatalog_node1668083342455.toDF()"
   ]
  },
  {
   "cell_type": "code",
   "execution_count": 47,
   "metadata": {},
   "outputs": [
    {
     "name": "stdout",
     "output_type": "stream",
     "text": [
      "+----------+---------+--------------------+--------------------+--------------------+---------------+------+\n",
      "|first_name|last_name|             address|                text|                  id|           city| state|\n",
      "+----------+---------+--------------------+--------------------+--------------------+---------------+------+\n",
      "|      Cody|  Daniels|653 Jones Port Ap...|Price resource co...|5fe7b9c4-34f8-491...|Griffithborough|Oregon|\n",
      "|      Cody|  Daniels|653 Jones Port Ap...|Price resource co...|5fe7b9c4-34f8-491...|Griffithborough|Oregon|\n",
      "+----------+---------+--------------------+--------------------+--------------------+---------------+------+\n",
      "only showing top 2 rows\n"
     ]
    }
   ],
   "source": [
    "df.show(2)"
   ]
  },
  {
   "cell_type": "code",
   "execution_count": 48,
   "metadata": {},
   "outputs": [
    {
     "name": "stdout",
     "output_type": "stream",
     "text": [
      "\n"
     ]
    }
   ],
   "source": [
    "df = df.withColumn('dedup_hash', \n",
    "                   hasher(concat(df.first_name, df.last_name))\n",
    "                   .alias('dedup_hash'))"
   ]
  },
  {
   "cell_type": "code",
   "execution_count": 50,
   "metadata": {},
   "outputs": [
    {
     "name": "stdout",
     "output_type": "stream",
     "text": [
      "+----------+---------+--------------------+--------------------+--------------------+---------------+------+--------------------+\n",
      "|first_name|last_name|             address|                text|                  id|           city| state|          dedup_hash|\n",
      "+----------+---------+--------------------+--------------------+--------------------+---------------+------+--------------------+\n",
      "|      Cody|  Daniels|653 Jones Port Ap...|Price resource co...|5fe7b9c4-34f8-491...|Griffithborough|Oregon|3cab1d104db40bb81...|\n",
      "|      Cody|  Daniels|653 Jones Port Ap...|Price resource co...|5fe7b9c4-34f8-491...|Griffithborough|Oregon|3cab1d104db40bb81...|\n",
      "+----------+---------+--------------------+--------------------+--------------------+---------------+------+--------------------+\n",
      "only showing top 2 rows\n"
     ]
    }
   ],
   "source": [
    "df.show(2)"
   ]
  },
  {
   "cell_type": "code",
   "execution_count": 51,
   "metadata": {},
   "outputs": [
    {
     "name": "stdout",
     "output_type": "stream",
     "text": [
      "12\n"
     ]
    }
   ],
   "source": [
    "df.count()"
   ]
  },
  {
   "cell_type": "code",
   "execution_count": 52,
   "metadata": {},
   "outputs": [
    {
     "name": "stdout",
     "output_type": "stream",
     "text": [
      "\n"
     ]
    }
   ],
   "source": [
    "df_new = df.dropDuplicates(['dedup_hash'])"
   ]
  },
  {
   "cell_type": "code",
   "execution_count": 53,
   "metadata": {},
   "outputs": [
    {
     "name": "stdout",
     "output_type": "stream",
     "text": [
      "6\n"
     ]
    }
   ],
   "source": [
    "df_new.count()"
   ]
  },
  {
   "cell_type": "markdown",
   "metadata": {},
   "source": [
    "# Convert Spark frame to Glue dynamic Frame and write to source "
   ]
  },
  {
   "cell_type": "code",
   "execution_count": 54,
   "metadata": {},
   "outputs": [
    {
     "name": "stdout",
     "output_type": "stream",
     "text": [
      "\n"
     ]
    }
   ],
   "source": [
    "from awsglue.dynamicframe import DynamicFrame"
   ]
  },
  {
   "cell_type": "code",
   "execution_count": 57,
   "metadata": {},
   "outputs": [
    {
     "name": "stdout",
     "output_type": "stream",
     "text": [
      "\n"
     ]
    }
   ],
   "source": [
    "MyDynamicFrame = DynamicFrame.fromDF(df_new, glueContext, \"test_nest\")"
   ]
  },
  {
   "cell_type": "code",
   "execution_count": 61,
   "metadata": {},
   "outputs": [
    {
     "name": "stdout",
     "output_type": "stream",
     "text": [
      "{\"first_name\": \"Stephanie\", \"last_name\": \"Roth\", \"address\": \"2530 John Locks Apt. 941\n",
      "Allisonchester, IL 65026\", \"text\": \"Song fear quality follow character. Star factor can lose child. Worker drop laugh.\n",
      "Product Congress five. Guess left wish the increase especially example.\", \"id\": \"da6614d4-c2cf-47e4-bc28-80a06a6f94a6\", \"city\": \"Lake Ashley\", \"state\": \"Washington\", \"dedup_hash\": \"d62aae4bddd9fc014ac9b4feed8a804b\"}\n",
      "{\"first_name\": \"Lynn\", \"last_name\": \"Garcia\", \"address\": \"PSC 3067, Box 3116\n",
      "APO AP 33308\", \"text\": \"Measure gun trial. List note practice attack their heavy.\n",
      "Economy start whether next get fight hot. Girl level century let.\", \"id\": \"0cf8f55f-0b22-498e-84db-46bb01d7025a\", \"city\": \"North Mark\", \"state\": \"Delaware\", \"dedup_hash\": \"c383845e6c1557c749eb01c8d2d0d524\"}\n",
      "{\"first_name\": \"Catherine\", \"last_name\": \"Thomas\", \"address\": \"PSC 8441, Box 5251\n",
      "APO AE 72289\", \"text\": \"Would end friend special international century sell yourself. Garden soldier letter pressure fast option. Charge end easy myself type way. Decide maintain what describe young.\", \"id\": \"978474fd-582a-4a55-8521-4abe8480c495\", \"city\": \"Brayberg\", \"state\": \"Ohio\", \"dedup_hash\": \"e319e4c8ff1e6e674ac2d260164a5c02\"}\n",
      "{\"first_name\": \"Nathan\", \"last_name\": \"Mccormick\", \"address\": \"7480 Calvin Drive\n",
      "Hallmouth, AL 92653\", \"text\": \"Drug this approach available people perform do. Physical toward man drop money glass. By team push. Bag local perform spring.\", \"id\": \"169569b1-75a3-4499-9f23-6071cfa76eb5\", \"city\": \"Jeffreyfurt\", \"state\": \"Illinois\", \"dedup_hash\": \"7960f26fefd1777aec325f38be6e0e70\"}\n",
      "{\"first_name\": \"Cody\", \"last_name\": \"Daniels\", \"address\": \"653 Jones Port Apt. 287\n",
      "North Hannah, HI 62670\", \"text\": \"Price resource collection those impact again difficult. Sign a learn put to citizen.\n",
      "Seek adult sometimes keep field. How conference pull smile first success management.\", \"id\": \"5fe7b9c4-34f8-4915-8538-7b935bd0395d\", \"city\": \"Griffithborough\", \"state\": \"Oregon\", \"dedup_hash\": \"3cab1d104db40bb8100f83f93c66a9fc\"}\n",
      "{\"first_name\": \"Laura\", \"last_name\": \"Harris\", \"address\": \"176 Garcia Brook\n",
      "Port Benjamin, MD 13364\", \"text\": \"Meeting edge nor upon father one alone serve. Career history finish in although spring year. Total writer language hear value painting.\", \"id\": \"05f2eb79-de24-47ab-848e-9d32f3e4f27a\", \"city\": \"Taylorside\", \"state\": \"Maryland\", \"dedup_hash\": \"b353629e017d872efe4d950b2d529f35\"}\n"
     ]
    }
   ],
   "source": [
    "MyDynamicFrame.show(1)"
   ]
  },
  {
   "cell_type": "code",
   "execution_count": 63,
   "metadata": {},
   "outputs": [
    {
     "name": "stdout",
     "output_type": "stream",
     "text": [
      "\n"
     ]
    }
   ],
   "source": [
    "AmazonS3_node1668085615595 = glueContext.write_dynamic_frame.from_options(\n",
    "    frame=DynamicFrame,\n",
    "    connection_type=\"s3\",\n",
    "    format=\"json\",\n",
    "    connection_options={\n",
    "        \"path\": \"s3://glue-learn-begineers/new/\",\n",
    "        \"partitionKeys\": [],\n",
    "    },\n",
    "    transformation_ctx=\"AmazonS3_node1668085615595\",\n",
    ")"
   ]
  },
  {
   "cell_type": "code",
   "execution_count": null,
   "metadata": {},
   "outputs": [],
   "source": []
  }
 ],
 "metadata": {
  "kernelspec": {
   "display_name": "Python 3 (ipykernel)",
   "language": "python",
   "name": "python3"
  },
  "language_info": {
   "codemirror_mode": {
    "name": "ipython",
    "version": 3
   },
   "file_extension": ".py",
   "mimetype": "text/x-python",
   "name": "python",
   "nbconvert_exporter": "python",
   "pygments_lexer": "ipython3",
   "version": "3.9.13"
  }
 },
 "nbformat": 4,
 "nbformat_minor": 4
}
